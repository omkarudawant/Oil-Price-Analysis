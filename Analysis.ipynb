{
 "cells": [
  {
   "cell_type": "markdown",
   "metadata": {},
   "source": [
    "# Analysis of Oil prices (Crude-Oil-Prices-West-Texas-Intermediate-WTI-Cushing-Oklahoma)\n",
    "\n",
    "This notebook shows an analysis of oil prices over the years 2009 to 2019.\n",
    "We will analyse these prices and try to find patterns from it. \n",
    "\n",
    "We will first preprocess the dataset to match our needs, then create a function to which we can pass a percent change in price and it will give us, all the dates where similar percent change was occured."
   ]
  },
  {
   "cell_type": "code",
   "execution_count": 1,
   "metadata": {},
   "outputs": [],
   "source": [
    "# Packages for analysing the dataset\n",
    "import pandas as pd\n",
    "import numpy as np\n",
    "%matplotlib inline\n",
    "import matplotlib.pyplot as plt\n",
    "from seaborn import set_style\n",
    "set_style('darkgrid')"
   ]
  },
  {
   "cell_type": "markdown",
   "metadata": {},
   "source": [
    "## 1. Preprocessing"
   ]
  },
  {
   "cell_type": "markdown",
   "metadata": {},
   "source": [
    "First we will load the dataset in a pandas dataframe, to perform the preprocessing on it. \n",
    "\n",
    "As we are a little aware of our dataset, we will make the `DATE` column as out index column."
   ]
  },
  {
   "cell_type": "code",
   "execution_count": 2,
   "metadata": {},
   "outputs": [
    {
     "data": {
      "text/html": [
       "<div>\n",
       "<style scoped>\n",
       "    .dataframe tbody tr th:only-of-type {\n",
       "        vertical-align: middle;\n",
       "    }\n",
       "\n",
       "    .dataframe tbody tr th {\n",
       "        vertical-align: top;\n",
       "    }\n",
       "\n",
       "    .dataframe thead th {\n",
       "        text-align: right;\n",
       "    }\n",
       "</style>\n",
       "<table border=\"1\" class=\"dataframe\">\n",
       "  <thead>\n",
       "    <tr style=\"text-align: right;\">\n",
       "      <th></th>\n",
       "      <th>DCOILWTICO</th>\n",
       "    </tr>\n",
       "    <tr>\n",
       "      <th>DATE</th>\n",
       "      <th></th>\n",
       "    </tr>\n",
       "  </thead>\n",
       "  <tbody>\n",
       "    <tr>\n",
       "      <th>2009-11-12</th>\n",
       "      <td>77.25</td>\n",
       "    </tr>\n",
       "    <tr>\n",
       "      <th>2009-11-13</th>\n",
       "      <td>76.34</td>\n",
       "    </tr>\n",
       "    <tr>\n",
       "      <th>2009-11-16</th>\n",
       "      <td>78.91</td>\n",
       "    </tr>\n",
       "    <tr>\n",
       "      <th>2009-11-17</th>\n",
       "      <td>79.08</td>\n",
       "    </tr>\n",
       "    <tr>\n",
       "      <th>2009-11-18</th>\n",
       "      <td>79.55</td>\n",
       "    </tr>\n",
       "  </tbody>\n",
       "</table>\n",
       "</div>"
      ],
      "text/plain": [
       "           DCOILWTICO\n",
       "DATE                 \n",
       "2009-11-12      77.25\n",
       "2009-11-13      76.34\n",
       "2009-11-16      78.91\n",
       "2009-11-17      79.08\n",
       "2009-11-18      79.55"
      ]
     },
     "execution_count": 2,
     "metadata": {},
     "output_type": "execute_result"
    }
   ],
   "source": [
    "df = pd.read_csv('DCOILWTICO.csv', index_col=[0])\n",
    "df.head()"
   ]
  },
  {
   "cell_type": "markdown",
   "metadata": {},
   "source": [
    "Now that we have loaded the dataframe, let's convert the `DATE` column to datetime format, so that it'll be easier for use to analyse it further."
   ]
  },
  {
   "cell_type": "code",
   "execution_count": 3,
   "metadata": {},
   "outputs": [
    {
     "data": {
      "text/html": [
       "<div>\n",
       "<style scoped>\n",
       "    .dataframe tbody tr th:only-of-type {\n",
       "        vertical-align: middle;\n",
       "    }\n",
       "\n",
       "    .dataframe tbody tr th {\n",
       "        vertical-align: top;\n",
       "    }\n",
       "\n",
       "    .dataframe thead th {\n",
       "        text-align: right;\n",
       "    }\n",
       "</style>\n",
       "<table border=\"1\" class=\"dataframe\">\n",
       "  <thead>\n",
       "    <tr style=\"text-align: right;\">\n",
       "      <th>DATE</th>\n",
       "      <th>2009-11-12</th>\n",
       "      <th>2009-11-13</th>\n",
       "      <th>2009-11-16</th>\n",
       "      <th>2009-11-17</th>\n",
       "      <th>2009-11-18</th>\n",
       "      <th>2009-11-19</th>\n",
       "      <th>2009-11-20</th>\n",
       "      <th>2009-11-23</th>\n",
       "      <th>2009-11-24</th>\n",
       "      <th>2009-11-25</th>\n",
       "      <th>2009-11-26</th>\n",
       "      <th>2009-11-27</th>\n",
       "      <th>2009-11-30</th>\n",
       "      <th>2009-12-01</th>\n",
       "      <th>2009-12-02</th>\n",
       "    </tr>\n",
       "  </thead>\n",
       "  <tbody>\n",
       "    <tr>\n",
       "      <th>DCOILWTICO</th>\n",
       "      <td>77.25</td>\n",
       "      <td>76.34</td>\n",
       "      <td>78.91</td>\n",
       "      <td>79.08</td>\n",
       "      <td>79.55</td>\n",
       "      <td>77.47</td>\n",
       "      <td>76.83</td>\n",
       "      <td>76.49</td>\n",
       "      <td>74.88</td>\n",
       "      <td>77.25</td>\n",
       "      <td>.</td>\n",
       "      <td>75.95</td>\n",
       "      <td>77.19</td>\n",
       "      <td>78.39</td>\n",
       "      <td>76.62</td>\n",
       "    </tr>\n",
       "  </tbody>\n",
       "</table>\n",
       "</div>"
      ],
      "text/plain": [
       "DATE       2009-11-12 2009-11-13 2009-11-16 2009-11-17 2009-11-18 2009-11-19  \\\n",
       "DCOILWTICO      77.25      76.34      78.91      79.08      79.55      77.47   \n",
       "\n",
       "DATE       2009-11-20 2009-11-23 2009-11-24 2009-11-25 2009-11-26 2009-11-27  \\\n",
       "DCOILWTICO      76.83      76.49      74.88      77.25          .      75.95   \n",
       "\n",
       "DATE       2009-11-30 2009-12-01 2009-12-02  \n",
       "DCOILWTICO      77.19      78.39      76.62  "
      ]
     },
     "execution_count": 3,
     "metadata": {},
     "output_type": "execute_result"
    }
   ],
   "source": [
    "df.index = pd.to_datetime(df.index)\n",
    "df.head(15).T"
   ]
  },
  {
   "cell_type": "code",
   "execution_count": 4,
   "metadata": {},
   "outputs": [
    {
     "data": {
      "text/plain": [
       "DCOILWTICO    object\n",
       "dtype: object"
      ]
     },
     "execution_count": 4,
     "metadata": {},
     "output_type": "execute_result"
    }
   ],
   "source": [
    "df.dtypes"
   ]
  },
  {
   "cell_type": "markdown",
   "metadata": {},
   "source": [
    "By looking at first 15 rows, we can see there is a value `.` which needs to be removed from the prices column, and convert the prices to `float` data type."
   ]
  },
  {
   "cell_type": "code",
   "execution_count": 5,
   "metadata": {},
   "outputs": [],
   "source": [
    "df['DCOILWTICO'] = df['DCOILWTICO'][df['DCOILWTICO'] != '.'].astype('float32')"
   ]
  },
  {
   "cell_type": "markdown",
   "metadata": {},
   "source": [
    "Now, we'll check for `NaN` values and drop them from the dataframe"
   ]
  },
  {
   "cell_type": "code",
   "execution_count": 6,
   "metadata": {},
   "outputs": [
    {
     "data": {
      "text/plain": [
       "DCOILWTICO    94\n",
       "dtype: int64"
      ]
     },
     "execution_count": 6,
     "metadata": {},
     "output_type": "execute_result"
    }
   ],
   "source": [
    "df.isna().sum()"
   ]
  },
  {
   "cell_type": "code",
   "execution_count": 7,
   "metadata": {},
   "outputs": [],
   "source": [
    "df.dropna(inplace=True)"
   ]
  },
  {
   "cell_type": "markdown",
   "metadata": {},
   "source": [
    "As the dataset is pretty much cleaned, let's plot it to see the variations in prices over the years."
   ]
  },
  {
   "cell_type": "code",
   "execution_count": 8,
   "metadata": {},
   "outputs": [
    {
     "data": {
      "image/png": "[encoded data removed]",
      "text/plain": [
       "<Figure size 1152x432 with 1 Axes>"
      ]
     },
     "metadata": {
      "needs_background": "light"
     },
     "output_type": "display_data"
    }
   ],
   "source": [
    "df.plot(figsize=(16,6))\n",
    "plt.title('Oil prices')\n",
    "plt.ylabel('Prices')\n",
    "plt.show()"
   ]
  },
  {
   "cell_type": "markdown",
   "metadata": {},
   "source": [
    "As per the requirements, we need to find the difference between consecuative price values and their percent change, let's add these values as new columns called, `Difference` and `Perc_diff`"
   ]
  },
  {
   "cell_type": "markdown",
   "metadata": {},
   "source": [
    "## 2. Feature generation"
   ]
  },
  {
   "cell_type": "code",
   "execution_count": 9,
   "metadata": {},
   "outputs": [
    {
     "data": {
      "text/html": [
       "<div>\n",
       "<style scoped>\n",
       "    .dataframe tbody tr th:only-of-type {\n",
       "        vertical-align: middle;\n",
       "    }\n",
       "\n",
       "    .dataframe tbody tr th {\n",
       "        vertical-align: top;\n",
       "    }\n",
       "\n",
       "    .dataframe thead th {\n",
       "        text-align: right;\n",
       "    }\n",
       "</style>\n",
       "<table border=\"1\" class=\"dataframe\">\n",
       "  <thead>\n",
       "    <tr style=\"text-align: right;\">\n",
       "      <th></th>\n",
       "      <th>DCOILWTICO</th>\n",
       "      <th>Difference</th>\n",
       "      <th>Perc_diff</th>\n",
       "    </tr>\n",
       "    <tr>\n",
       "      <th>DATE</th>\n",
       "      <th></th>\n",
       "      <th></th>\n",
       "      <th></th>\n",
       "    </tr>\n",
       "  </thead>\n",
       "  <tbody>\n",
       "    <tr>\n",
       "      <th>2009-11-12</th>\n",
       "      <td>77.250000</td>\n",
       "      <td>0.000000</td>\n",
       "      <td>0.000000</td>\n",
       "    </tr>\n",
       "    <tr>\n",
       "      <th>2009-11-13</th>\n",
       "      <td>76.339996</td>\n",
       "      <td>-0.910004</td>\n",
       "      <td>-1.177996</td>\n",
       "    </tr>\n",
       "    <tr>\n",
       "      <th>2009-11-16</th>\n",
       "      <td>78.910004</td>\n",
       "      <td>2.570007</td>\n",
       "      <td>3.366530</td>\n",
       "    </tr>\n",
       "    <tr>\n",
       "      <th>2009-11-17</th>\n",
       "      <td>79.080002</td>\n",
       "      <td>0.169998</td>\n",
       "      <td>0.215435</td>\n",
       "    </tr>\n",
       "    <tr>\n",
       "      <th>2009-11-18</th>\n",
       "      <td>79.550003</td>\n",
       "      <td>0.470001</td>\n",
       "      <td>0.594342</td>\n",
       "    </tr>\n",
       "  </tbody>\n",
       "</table>\n",
       "</div>"
      ],
      "text/plain": [
       "            DCOILWTICO  Difference  Perc_diff\n",
       "DATE                                         \n",
       "2009-11-12   77.250000    0.000000   0.000000\n",
       "2009-11-13   76.339996   -0.910004  -1.177996\n",
       "2009-11-16   78.910004    2.570007   3.366530\n",
       "2009-11-17   79.080002    0.169998   0.215435\n",
       "2009-11-18   79.550003    0.470001   0.594342"
      ]
     },
     "execution_count": 9,
     "metadata": {},
     "output_type": "execute_result"
    }
   ],
   "source": [
    "df['Difference'] = df['DCOILWTICO'].diff(periods=1)\n",
    "df['Perc_diff'] = df['DCOILWTICO'].pct_change(periods=1) * 100\n",
    "df.fillna(0, inplace=True)\n",
    "df.head()"
   ]
  },
  {
   "cell_type": "markdown",
   "metadata": {},
   "source": [
    "Now, we have got the required difference and precent change values, let's extract few other features from the dataset, so that it'll be easier for us to get the range of similar percent change values. \n",
    "\n",
    "We'll add more columns for `Daily`, `Weekly`, `Monthly`, `Yearly`, and so on."
   ]
  },
  {
   "cell_type": "code",
   "execution_count": 10,
   "metadata": {},
   "outputs": [
    {
     "data": {
      "text/html": [
       "<div>\n",
       "<style scoped>\n",
       "    .dataframe tbody tr th:only-of-type {\n",
       "        vertical-align: middle;\n",
       "    }\n",
       "\n",
       "    .dataframe tbody tr th {\n",
       "        vertical-align: top;\n",
       "    }\n",
       "\n",
       "    .dataframe thead th {\n",
       "        text-align: right;\n",
       "    }\n",
       "</style>\n",
       "<table border=\"1\" class=\"dataframe\">\n",
       "  <thead>\n",
       "    <tr style=\"text-align: right;\">\n",
       "      <th></th>\n",
       "      <th>DCOILWTICO</th>\n",
       "      <th>Difference</th>\n",
       "      <th>Perc_diff</th>\n",
       "      <th>Day</th>\n",
       "      <th>Month</th>\n",
       "      <th>Weekday</th>\n",
       "      <th>Year</th>\n",
       "    </tr>\n",
       "    <tr>\n",
       "      <th>DATE</th>\n",
       "      <th></th>\n",
       "      <th></th>\n",
       "      <th></th>\n",
       "      <th></th>\n",
       "      <th></th>\n",
       "      <th></th>\n",
       "      <th></th>\n",
       "    </tr>\n",
       "  </thead>\n",
       "  <tbody>\n",
       "    <tr>\n",
       "      <th>2009-11-12</th>\n",
       "      <td>77.250000</td>\n",
       "      <td>0.000000</td>\n",
       "      <td>0.000000</td>\n",
       "      <td>12</td>\n",
       "      <td>11</td>\n",
       "      <td>3</td>\n",
       "      <td>2009</td>\n",
       "    </tr>\n",
       "    <tr>\n",
       "      <th>2009-11-13</th>\n",
       "      <td>76.339996</td>\n",
       "      <td>-0.910004</td>\n",
       "      <td>-1.177996</td>\n",
       "      <td>13</td>\n",
       "      <td>11</td>\n",
       "      <td>4</td>\n",
       "      <td>2009</td>\n",
       "    </tr>\n",
       "    <tr>\n",
       "      <th>2009-11-16</th>\n",
       "      <td>78.910004</td>\n",
       "      <td>2.570007</td>\n",
       "      <td>3.366530</td>\n",
       "      <td>16</td>\n",
       "      <td>11</td>\n",
       "      <td>0</td>\n",
       "      <td>2009</td>\n",
       "    </tr>\n",
       "    <tr>\n",
       "      <th>2009-11-17</th>\n",
       "      <td>79.080002</td>\n",
       "      <td>0.169998</td>\n",
       "      <td>0.215435</td>\n",
       "      <td>17</td>\n",
       "      <td>11</td>\n",
       "      <td>1</td>\n",
       "      <td>2009</td>\n",
       "    </tr>\n",
       "    <tr>\n",
       "      <th>2009-11-18</th>\n",
       "      <td>79.550003</td>\n",
       "      <td>0.470001</td>\n",
       "      <td>0.594342</td>\n",
       "      <td>18</td>\n",
       "      <td>11</td>\n",
       "      <td>2</td>\n",
       "      <td>2009</td>\n",
       "    </tr>\n",
       "  </tbody>\n",
       "</table>\n",
       "</div>"
      ],
      "text/plain": [
       "            DCOILWTICO  Difference  Perc_diff  Day  Month  Weekday  Year\n",
       "DATE                                                                    \n",
       "2009-11-12   77.250000    0.000000   0.000000   12     11        3  2009\n",
       "2009-11-13   76.339996   -0.910004  -1.177996   13     11        4  2009\n",
       "2009-11-16   78.910004    2.570007   3.366530   16     11        0  2009\n",
       "2009-11-17   79.080002    0.169998   0.215435   17     11        1  2009\n",
       "2009-11-18   79.550003    0.470001   0.594342   18     11        2  2009"
      ]
     },
     "execution_count": 10,
     "metadata": {},
     "output_type": "execute_result"
    }
   ],
   "source": [
    "df['Day'] = pd.to_datetime(df.index).day\n",
    "df['Month'] = pd.to_datetime(df.index).month\n",
    "df['Weekday'] = pd.to_datetime(df.index).dayofweek\n",
    "df['Year'] = pd.to_datetime(df.index).year\n",
    "df.head()"
   ]
  },
  {
   "cell_type": "markdown",
   "metadata": {},
   "source": [
    "As we can see the final dataframe above, now we can work on getting similar percent change values over a period of range"
   ]
  },
  {
   "cell_type": "markdown",
   "metadata": {},
   "source": [
    "## 3. Analysis"
   ]
  },
  {
   "cell_type": "markdown",
   "metadata": {},
   "source": [
    "First let's try to find all the dates where we specify a `Weekday`(Ranging from 0 to 4, where `0 is Monday`, `1 is Tuesday`, and so on) and `Perc_diff` over a period of time."
   ]
  },
  {
   "cell_type": "code",
   "execution_count": 11,
   "metadata": {},
   "outputs": [
    {
     "data": {
      "text/html": [
       "<div>\n",
       "<style scoped>\n",
       "    .dataframe tbody tr th:only-of-type {\n",
       "        vertical-align: middle;\n",
       "    }\n",
       "\n",
       "    .dataframe tbody tr th {\n",
       "        vertical-align: top;\n",
       "    }\n",
       "\n",
       "    .dataframe thead th {\n",
       "        text-align: right;\n",
       "    }\n",
       "</style>\n",
       "<table border=\"1\" class=\"dataframe\">\n",
       "  <thead>\n",
       "    <tr style=\"text-align: right;\">\n",
       "      <th></th>\n",
       "      <th>DCOILWTICO</th>\n",
       "      <th>Difference</th>\n",
       "      <th>Perc_diff</th>\n",
       "      <th>Day</th>\n",
       "      <th>Month</th>\n",
       "      <th>Weekday</th>\n",
       "      <th>Year</th>\n",
       "    </tr>\n",
       "    <tr>\n",
       "      <th>DATE</th>\n",
       "      <th></th>\n",
       "      <th></th>\n",
       "      <th></th>\n",
       "      <th></th>\n",
       "      <th></th>\n",
       "      <th></th>\n",
       "      <th></th>\n",
       "    </tr>\n",
       "  </thead>\n",
       "  <tbody>\n",
       "    <tr>\n",
       "      <th>2009-11-16</th>\n",
       "      <td>78.910004</td>\n",
       "      <td>2.570007</td>\n",
       "      <td>3.366530</td>\n",
       "      <td>16</td>\n",
       "      <td>11</td>\n",
       "      <td>0</td>\n",
       "      <td>2009</td>\n",
       "    </tr>\n",
       "    <tr>\n",
       "      <th>2009-11-30</th>\n",
       "      <td>77.190002</td>\n",
       "      <td>1.240005</td>\n",
       "      <td>1.632655</td>\n",
       "      <td>30</td>\n",
       "      <td>11</td>\n",
       "      <td>0</td>\n",
       "      <td>2009</td>\n",
       "    </tr>\n",
       "    <tr>\n",
       "      <th>2009-12-28</th>\n",
       "      <td>78.669998</td>\n",
       "      <td>1.839996</td>\n",
       "      <td>2.394891</td>\n",
       "      <td>28</td>\n",
       "      <td>12</td>\n",
       "      <td>0</td>\n",
       "      <td>2009</td>\n",
       "    </tr>\n",
       "    <tr>\n",
       "      <th>2010-01-04</th>\n",
       "      <td>81.519997</td>\n",
       "      <td>2.129997</td>\n",
       "      <td>2.682960</td>\n",
       "      <td>4</td>\n",
       "      <td>1</td>\n",
       "      <td>0</td>\n",
       "      <td>2010</td>\n",
       "    </tr>\n",
       "    <tr>\n",
       "      <th>2010-01-25</th>\n",
       "      <td>74.900002</td>\n",
       "      <td>0.650002</td>\n",
       "      <td>0.875425</td>\n",
       "      <td>25</td>\n",
       "      <td>1</td>\n",
       "      <td>0</td>\n",
       "      <td>2010</td>\n",
       "    </tr>\n",
       "    <tr>\n",
       "      <th>...</th>\n",
       "      <td>...</td>\n",
       "      <td>...</td>\n",
       "      <td>...</td>\n",
       "      <td>...</td>\n",
       "      <td>...</td>\n",
       "      <td>...</td>\n",
       "      <td>...</td>\n",
       "    </tr>\n",
       "    <tr>\n",
       "      <th>2019-08-19</th>\n",
       "      <td>56.240002</td>\n",
       "      <td>1.410000</td>\n",
       "      <td>2.571583</td>\n",
       "      <td>19</td>\n",
       "      <td>8</td>\n",
       "      <td>0</td>\n",
       "      <td>2019</td>\n",
       "    </tr>\n",
       "    <tr>\n",
       "      <th>2019-09-09</th>\n",
       "      <td>57.880001</td>\n",
       "      <td>1.430000</td>\n",
       "      <td>2.533221</td>\n",
       "      <td>9</td>\n",
       "      <td>9</td>\n",
       "      <td>0</td>\n",
       "      <td>2019</td>\n",
       "    </tr>\n",
       "    <tr>\n",
       "      <th>2019-09-16</th>\n",
       "      <td>63.099998</td>\n",
       "      <td>8.340000</td>\n",
       "      <td>15.230095</td>\n",
       "      <td>16</td>\n",
       "      <td>9</td>\n",
       "      <td>0</td>\n",
       "      <td>2019</td>\n",
       "    </tr>\n",
       "    <tr>\n",
       "      <th>2019-09-23</th>\n",
       "      <td>58.689999</td>\n",
       "      <td>0.770000</td>\n",
       "      <td>1.329422</td>\n",
       "      <td>23</td>\n",
       "      <td>9</td>\n",
       "      <td>0</td>\n",
       "      <td>2019</td>\n",
       "    </tr>\n",
       "    <tr>\n",
       "      <th>2019-11-04</th>\n",
       "      <td>56.330002</td>\n",
       "      <td>0.290001</td>\n",
       "      <td>0.517488</td>\n",
       "      <td>4</td>\n",
       "      <td>11</td>\n",
       "      <td>0</td>\n",
       "      <td>2019</td>\n",
       "    </tr>\n",
       "  </tbody>\n",
       "</table>\n",
       "<p>205 rows × 7 columns</p>\n",
       "</div>"
      ],
      "text/plain": [
       "            DCOILWTICO  Difference  Perc_diff  Day  Month  Weekday  Year\n",
       "DATE                                                                    \n",
       "2009-11-16   78.910004    2.570007   3.366530   16     11        0  2009\n",
       "2009-11-30   77.190002    1.240005   1.632655   30     11        0  2009\n",
       "2009-12-28   78.669998    1.839996   2.394891   28     12        0  2009\n",
       "2010-01-04   81.519997    2.129997   2.682960    4      1        0  2010\n",
       "2010-01-25   74.900002    0.650002   0.875425   25      1        0  2010\n",
       "...                ...         ...        ...  ...    ...      ...   ...\n",
       "2019-08-19   56.240002    1.410000   2.571583   19      8        0  2019\n",
       "2019-09-09   57.880001    1.430000   2.533221    9      9        0  2019\n",
       "2019-09-16   63.099998    8.340000  15.230095   16      9        0  2019\n",
       "2019-09-23   58.689999    0.770000   1.329422   23      9        0  2019\n",
       "2019-11-04   56.330002    0.290001   0.517488    4     11        0  2019\n",
       "\n",
       "[205 rows x 7 columns]"
      ]
     },
     "execution_count": 11,
     "metadata": {},
     "output_type": "execute_result"
    }
   ],
   "source": [
    "start_date = '2009-11-01'\n",
    "end_date = '2019-11-18'\n",
    "percent_change = 0.1\n",
    "weekday = 0  # 0 to 4 (Monday to Friday)\n",
    "df.loc[(df['Perc_diff'] > percent_change) & (df['Weekday'] == weekday)][start_date:end_date]"
   ]
  },
  {
   "cell_type": "code",
   "execution_count": null,
   "metadata": {},
   "outputs": [],
   "source": []
  }
 ],
 "metadata": {
  "kernelspec": {
   "display_name": "Python 3",
   "language": "python",
   "name": "python3"
  },
  "language_info": {
   "codemirror_mode": {
    "name": "ipython",
    "version": 3
   },
   "file_extension": ".py",
   "mimetype": "text/x-python",
   "name": "python",
   "nbconvert_exporter": "python",
   "pygments_lexer": "ipython3",
   "version": "3.7.3"
  }
 },
 "nbformat": 4,
 "nbformat_minor": 2
}
