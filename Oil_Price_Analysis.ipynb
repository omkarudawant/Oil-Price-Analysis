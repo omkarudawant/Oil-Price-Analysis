{
 "cells": [
  {
   "cell_type": "markdown",
   "metadata": {},
   "source": [
    "# Analysis of Oil prices (Crude-Oil-Prices-West-Texas-Intermediate-WTI-Cushing-Oklahoma)\n",
    "\n",
    "This notebook shows an analysis of oil prices over the years 2009 to 2019.\n",
    "We will analyse these prices and try to find patterns from it. \n",
    "\n",
    "We will first preprocess the dataset to match our needs, then create a function to which we can pass a percent change in price and it will give us, all the dates where similar percent change was occured."
   ]
  },
  {
   "cell_type": "code",
   "execution_count": 1,
   "metadata": {
    "ExecuteTime": {
     "end_time": "2019-11-25T03:04:15.164356Z",
     "start_time": "2019-11-25T03:04:14.349742Z"
    }
   },
   "outputs": [],
   "source": [
    "# Packages for analysing the dataset\n",
    "from warnings import filterwarnings\n",
    "filterwarnings('ignore')\n",
    "from datetime import datetime, timedelta, date\n",
    "from seaborn import set_style\n",
    "import matplotlib.pyplot as plt\n",
    "import pandas as pd\n",
    "import numpy as np\n",
    "%matplotlib inline\n",
    "set_style('darkgrid')"
   ]
  },
  {
   "cell_type": "markdown",
   "metadata": {},
   "source": [
    "## 1. Preprocessing"
   ]
  },
  {
   "cell_type": "markdown",
   "metadata": {},
   "source": [
    "First we will load the dataset in a pandas dataframe, to perform the preprocessing on it. \n",
    "\n",
    "As we are a little aware of our dataset, we will make the `DATE` column as out index column."
   ]
  },
  {
   "cell_type": "code",
   "execution_count": 2,
   "metadata": {
    "ExecuteTime": {
     "end_time": "2019-11-25T03:04:15.186561Z",
     "start_time": "2019-11-25T03:04:15.167564Z"
    }
   },
   "outputs": [
    {
     "data": {
      "text/html": [
       "<div>\n",
       "<style scoped>\n",
       "    .dataframe tbody tr th:only-of-type {\n",
       "        vertical-align: middle;\n",
       "    }\n",
       "\n",
       "    .dataframe tbody tr th {\n",
       "        vertical-align: top;\n",
       "    }\n",
       "\n",
       "    .dataframe thead th {\n",
       "        text-align: right;\n",
       "    }\n",
       "</style>\n",
       "<table border=\"1\" class=\"dataframe\">\n",
       "  <thead>\n",
       "    <tr style=\"text-align: right;\">\n",
       "      <th></th>\n",
       "      <th>DCOILWTICO</th>\n",
       "    </tr>\n",
       "    <tr>\n",
       "      <th>DATE</th>\n",
       "      <th></th>\n",
       "    </tr>\n",
       "  </thead>\n",
       "  <tbody>\n",
       "    <tr>\n",
       "      <td>2019-11-11</td>\n",
       "      <td>56.61</td>\n",
       "    </tr>\n",
       "    <tr>\n",
       "      <td>2019-11-12</td>\n",
       "      <td>56.67</td>\n",
       "    </tr>\n",
       "    <tr>\n",
       "      <td>2019-11-13</td>\n",
       "      <td>57.5</td>\n",
       "    </tr>\n",
       "    <tr>\n",
       "      <td>2019-11-15</td>\n",
       "      <td>57.5</td>\n",
       "    </tr>\n",
       "    <tr>\n",
       "      <td>2019-11-16</td>\n",
       "      <td>57.9</td>\n",
       "    </tr>\n",
       "  </tbody>\n",
       "</table>\n",
       "</div>"
      ],
      "text/plain": [
       "           DCOILWTICO\n",
       "DATE                 \n",
       "2019-11-11      56.61\n",
       "2019-11-12      56.67\n",
       "2019-11-13       57.5\n",
       "2019-11-15       57.5\n",
       "2019-11-16       57.9"
      ]
     },
     "execution_count": 2,
     "metadata": {},
     "output_type": "execute_result"
    }
   ],
   "source": [
    "df = pd.read_csv('DCOILWTICO.csv', index_col=[0])\n",
    "df.tail()"
   ]
  },
  {
   "cell_type": "markdown",
   "metadata": {},
   "source": [
    "Now that we have loaded the dataframe, let's convert the `DATE` column to datetime format, so that it'll be easier for use to analyse it further."
   ]
  },
  {
   "cell_type": "code",
   "execution_count": 3,
   "metadata": {
    "ExecuteTime": {
     "end_time": "2019-11-25T03:04:15.327486Z",
     "start_time": "2019-11-25T03:04:15.189567Z"
    }
   },
   "outputs": [
    {
     "data": {
      "text/html": [
       "<div>\n",
       "<style scoped>\n",
       "    .dataframe tbody tr th:only-of-type {\n",
       "        vertical-align: middle;\n",
       "    }\n",
       "\n",
       "    .dataframe tbody tr th {\n",
       "        vertical-align: top;\n",
       "    }\n",
       "\n",
       "    .dataframe thead th {\n",
       "        text-align: right;\n",
       "    }\n",
       "</style>\n",
       "<table border=\"1\" class=\"dataframe\">\n",
       "  <thead>\n",
       "    <tr style=\"text-align: right;\">\n",
       "      <th>DATE</th>\n",
       "      <th>2009-11-12</th>\n",
       "      <th>2009-11-13</th>\n",
       "      <th>2009-11-16</th>\n",
       "      <th>2009-11-17</th>\n",
       "      <th>2009-11-18</th>\n",
       "      <th>2009-11-19</th>\n",
       "      <th>2009-11-20</th>\n",
       "      <th>2009-11-23</th>\n",
       "      <th>2009-11-24</th>\n",
       "      <th>2009-11-25</th>\n",
       "      <th>2009-11-26</th>\n",
       "      <th>2009-11-27</th>\n",
       "      <th>2009-11-30</th>\n",
       "      <th>2009-12-01</th>\n",
       "      <th>2009-12-02</th>\n",
       "    </tr>\n",
       "  </thead>\n",
       "  <tbody>\n",
       "    <tr>\n",
       "      <td>DCOILWTICO</td>\n",
       "      <td>77.25</td>\n",
       "      <td>76.34</td>\n",
       "      <td>78.91</td>\n",
       "      <td>79.08</td>\n",
       "      <td>79.55</td>\n",
       "      <td>77.47</td>\n",
       "      <td>76.83</td>\n",
       "      <td>76.49</td>\n",
       "      <td>74.88</td>\n",
       "      <td>77.25</td>\n",
       "      <td>.</td>\n",
       "      <td>75.95</td>\n",
       "      <td>77.19</td>\n",
       "      <td>78.39</td>\n",
       "      <td>76.62</td>\n",
       "    </tr>\n",
       "  </tbody>\n",
       "</table>\n",
       "</div>"
      ],
      "text/plain": [
       "DATE       2009-11-12 2009-11-13 2009-11-16 2009-11-17 2009-11-18 2009-11-19  \\\n",
       "DCOILWTICO      77.25      76.34      78.91      79.08      79.55      77.47   \n",
       "\n",
       "DATE       2009-11-20 2009-11-23 2009-11-24 2009-11-25 2009-11-26 2009-11-27  \\\n",
       "DCOILWTICO      76.83      76.49      74.88      77.25          .      75.95   \n",
       "\n",
       "DATE       2009-11-30 2009-12-01 2009-12-02  \n",
       "DCOILWTICO      77.19      78.39      76.62  "
      ]
     },
     "execution_count": 3,
     "metadata": {},
     "output_type": "execute_result"
    }
   ],
   "source": [
    "df.index = pd.to_datetime(df.index)\n",
    "df.head(15).T"
   ]
  },
  {
   "cell_type": "code",
   "execution_count": 4,
   "metadata": {
    "ExecuteTime": {
     "end_time": "2019-11-25T03:04:15.440101Z",
     "start_time": "2019-11-25T03:04:15.331126Z"
    }
   },
   "outputs": [
    {
     "data": {
      "text/plain": [
       "DCOILWTICO    object\n",
       "dtype: object"
      ]
     },
     "execution_count": 4,
     "metadata": {},
     "output_type": "execute_result"
    }
   ],
   "source": [
    "df.dtypes"
   ]
  },
  {
   "cell_type": "markdown",
   "metadata": {},
   "source": [
    "By looking at first 15 rows, we can see there is a value `.` which needs to be removed from the prices column, and convert the prices to `float` data type."
   ]
  },
  {
   "cell_type": "code",
   "execution_count": 5,
   "metadata": {
    "ExecuteTime": {
     "end_time": "2019-11-25T03:04:15.574041Z",
     "start_time": "2019-11-25T03:04:15.444483Z"
    }
   },
   "outputs": [],
   "source": [
    "df['DCOILWTICO'] = df['DCOILWTICO'][df['DCOILWTICO'] != '.'].astype('float32')"
   ]
  },
  {
   "cell_type": "markdown",
   "metadata": {},
   "source": [
    "Now, we'll check for `NaN` values and drop them from the dataframe"
   ]
  },
  {
   "cell_type": "code",
   "execution_count": 6,
   "metadata": {
    "ExecuteTime": {
     "end_time": "2019-11-25T03:04:15.710196Z",
     "start_time": "2019-11-25T03:04:15.577534Z"
    }
   },
   "outputs": [
    {
     "data": {
      "text/plain": [
       "DCOILWTICO    94\n",
       "dtype: int64"
      ]
     },
     "execution_count": 6,
     "metadata": {},
     "output_type": "execute_result"
    }
   ],
   "source": [
    "df.isna().sum()"
   ]
  },
  {
   "cell_type": "code",
   "execution_count": 7,
   "metadata": {
    "ExecuteTime": {
     "end_time": "2019-11-25T03:04:15.825241Z",
     "start_time": "2019-11-25T03:04:15.712986Z"
    }
   },
   "outputs": [],
   "source": [
    "df.dropna(inplace=True)"
   ]
  },
  {
   "cell_type": "markdown",
   "metadata": {},
   "source": [
    "As the dataset is pretty much cleaned, let's plot it to see the variations in prices over the years."
   ]
  },
  {
   "cell_type": "code",
   "execution_count": 8,
   "metadata": {
    "ExecuteTime": {
     "end_time": "2019-11-25T03:04:16.298613Z",
     "start_time": "2019-11-25T03:04:15.829944Z"
    }
   },
   "outputs": [
    {
     "data": {
      "image/png": "[encoded data removed]",
      "text/plain": [
       "<Figure size 1152x432 with 1 Axes>"
      ]
     },
     "metadata": {
      "needs_background": "light"
     },
     "output_type": "display_data"
    }
   ],
   "source": [
    "df.plot(figsize=(16,6))\n",
    "plt.title('Oil prices')\n",
    "plt.ylabel('Prices')\n",
    "plt.show()"
   ]
  },
  {
   "cell_type": "markdown",
   "metadata": {},
   "source": [
    "As per the requirements, we need to find the difference between consecuative price values and their percent change, let's add these values as new columns called, `Difference` and `Perc_diff`"
   ]
  },
  {
   "cell_type": "markdown",
   "metadata": {},
   "source": [
    "## 2. Feature generation"
   ]
  },
  {
   "cell_type": "code",
   "execution_count": 9,
   "metadata": {
    "ExecuteTime": {
     "end_time": "2019-11-25T03:04:16.335769Z",
     "start_time": "2019-11-25T03:04:16.300779Z"
    }
   },
   "outputs": [
    {
     "data": {
      "text/html": [
       "<div>\n",
       "<style scoped>\n",
       "    .dataframe tbody tr th:only-of-type {\n",
       "        vertical-align: middle;\n",
       "    }\n",
       "\n",
       "    .dataframe tbody tr th {\n",
       "        vertical-align: top;\n",
       "    }\n",
       "\n",
       "    .dataframe thead th {\n",
       "        text-align: right;\n",
       "    }\n",
       "</style>\n",
       "<table border=\"1\" class=\"dataframe\">\n",
       "  <thead>\n",
       "    <tr style=\"text-align: right;\">\n",
       "      <th></th>\n",
       "      <th>DCOILWTICO</th>\n",
       "      <th>Difference</th>\n",
       "      <th>Perc_diff</th>\n",
       "    </tr>\n",
       "    <tr>\n",
       "      <th>DATE</th>\n",
       "      <th></th>\n",
       "      <th></th>\n",
       "      <th></th>\n",
       "    </tr>\n",
       "  </thead>\n",
       "  <tbody>\n",
       "    <tr>\n",
       "      <td>2009-11-12</td>\n",
       "      <td>77.250000</td>\n",
       "      <td>0.000000</td>\n",
       "      <td>0.000000</td>\n",
       "    </tr>\n",
       "    <tr>\n",
       "      <td>2009-11-13</td>\n",
       "      <td>76.339996</td>\n",
       "      <td>-0.910004</td>\n",
       "      <td>-1.177996</td>\n",
       "    </tr>\n",
       "    <tr>\n",
       "      <td>2009-11-16</td>\n",
       "      <td>78.910004</td>\n",
       "      <td>2.570007</td>\n",
       "      <td>3.366530</td>\n",
       "    </tr>\n",
       "    <tr>\n",
       "      <td>2009-11-17</td>\n",
       "      <td>79.080002</td>\n",
       "      <td>0.169998</td>\n",
       "      <td>0.215435</td>\n",
       "    </tr>\n",
       "    <tr>\n",
       "      <td>2009-11-18</td>\n",
       "      <td>79.550003</td>\n",
       "      <td>0.470001</td>\n",
       "      <td>0.594342</td>\n",
       "    </tr>\n",
       "  </tbody>\n",
       "</table>\n",
       "</div>"
      ],
      "text/plain": [
       "            DCOILWTICO  Difference  Perc_diff\n",
       "DATE                                         \n",
       "2009-11-12   77.250000    0.000000   0.000000\n",
       "2009-11-13   76.339996   -0.910004  -1.177996\n",
       "2009-11-16   78.910004    2.570007   3.366530\n",
       "2009-11-17   79.080002    0.169998   0.215435\n",
       "2009-11-18   79.550003    0.470001   0.594342"
      ]
     },
     "execution_count": 9,
     "metadata": {},
     "output_type": "execute_result"
    }
   ],
   "source": [
    "df['Difference'] = df['DCOILWTICO'].diff(periods=1)\n",
    "df['Perc_diff'] = df['DCOILWTICO'].pct_change(periods=1) * 100\n",
    "df.fillna(0, inplace=True)\n",
    "df.head()"
   ]
  },
  {
   "cell_type": "markdown",
   "metadata": {},
   "source": [
    "Now, we have got the required difference and precent change values, let's extract few other features from the dataset, so that it'll be easier for us to get the range of similar percent change values. \n",
    "\n",
    "We'll add more columns for `Daily`, `Weekly`, `Monthly`, `Yearly`, and so on."
   ]
  },
  {
   "cell_type": "code",
   "execution_count": 10,
   "metadata": {
    "ExecuteTime": {
     "end_time": "2019-11-25T03:04:16.489359Z",
     "start_time": "2019-11-25T03:04:16.338969Z"
    }
   },
   "outputs": [
    {
     "data": {
      "text/html": [
       "<div>\n",
       "<style scoped>\n",
       "    .dataframe tbody tr th:only-of-type {\n",
       "        vertical-align: middle;\n",
       "    }\n",
       "\n",
       "    .dataframe tbody tr th {\n",
       "        vertical-align: top;\n",
       "    }\n",
       "\n",
       "    .dataframe thead th {\n",
       "        text-align: right;\n",
       "    }\n",
       "</style>\n",
       "<table border=\"1\" class=\"dataframe\">\n",
       "  <thead>\n",
       "    <tr style=\"text-align: right;\">\n",
       "      <th></th>\n",
       "      <th>DCOILWTICO</th>\n",
       "      <th>Difference</th>\n",
       "      <th>Perc_diff</th>\n",
       "      <th>Day</th>\n",
       "      <th>Month</th>\n",
       "      <th>Weekday</th>\n",
       "      <th>Year</th>\n",
       "    </tr>\n",
       "    <tr>\n",
       "      <th>DATE</th>\n",
       "      <th></th>\n",
       "      <th></th>\n",
       "      <th></th>\n",
       "      <th></th>\n",
       "      <th></th>\n",
       "      <th></th>\n",
       "      <th></th>\n",
       "    </tr>\n",
       "  </thead>\n",
       "  <tbody>\n",
       "    <tr>\n",
       "      <td>2009-11-12</td>\n",
       "      <td>77.250000</td>\n",
       "      <td>0.000000</td>\n",
       "      <td>0.000000</td>\n",
       "      <td>12</td>\n",
       "      <td>11</td>\n",
       "      <td>3</td>\n",
       "      <td>2009</td>\n",
       "    </tr>\n",
       "    <tr>\n",
       "      <td>2009-11-13</td>\n",
       "      <td>76.339996</td>\n",
       "      <td>-0.910004</td>\n",
       "      <td>-1.177996</td>\n",
       "      <td>13</td>\n",
       "      <td>11</td>\n",
       "      <td>4</td>\n",
       "      <td>2009</td>\n",
       "    </tr>\n",
       "    <tr>\n",
       "      <td>2009-11-16</td>\n",
       "      <td>78.910004</td>\n",
       "      <td>2.570007</td>\n",
       "      <td>3.366530</td>\n",
       "      <td>16</td>\n",
       "      <td>11</td>\n",
       "      <td>0</td>\n",
       "      <td>2009</td>\n",
       "    </tr>\n",
       "    <tr>\n",
       "      <td>2009-11-17</td>\n",
       "      <td>79.080002</td>\n",
       "      <td>0.169998</td>\n",
       "      <td>0.215435</td>\n",
       "      <td>17</td>\n",
       "      <td>11</td>\n",
       "      <td>1</td>\n",
       "      <td>2009</td>\n",
       "    </tr>\n",
       "    <tr>\n",
       "      <td>2009-11-18</td>\n",
       "      <td>79.550003</td>\n",
       "      <td>0.470001</td>\n",
       "      <td>0.594342</td>\n",
       "      <td>18</td>\n",
       "      <td>11</td>\n",
       "      <td>2</td>\n",
       "      <td>2009</td>\n",
       "    </tr>\n",
       "  </tbody>\n",
       "</table>\n",
       "</div>"
      ],
      "text/plain": [
       "            DCOILWTICO  Difference  Perc_diff  Day  Month  Weekday  Year\n",
       "DATE                                                                    \n",
       "2009-11-12   77.250000    0.000000   0.000000   12     11        3  2009\n",
       "2009-11-13   76.339996   -0.910004  -1.177996   13     11        4  2009\n",
       "2009-11-16   78.910004    2.570007   3.366530   16     11        0  2009\n",
       "2009-11-17   79.080002    0.169998   0.215435   17     11        1  2009\n",
       "2009-11-18   79.550003    0.470001   0.594342   18     11        2  2009"
      ]
     },
     "execution_count": 10,
     "metadata": {},
     "output_type": "execute_result"
    }
   ],
   "source": [
    "df['Day'] = pd.to_datetime(df.index).day\n",
    "df['Month'] = pd.to_datetime(df.index).month\n",
    "df['Weekday'] = pd.to_datetime(df.index).dayofweek\n",
    "df['Year'] = pd.to_datetime(df.index).year\n",
    "df.head()"
   ]
  },
  {
   "cell_type": "markdown",
   "metadata": {},
   "source": [
    "As we can see the final dataframe above, now we can work on getting similar percent change values over a period of range"
   ]
  },
  {
   "cell_type": "markdown",
   "metadata": {},
   "source": [
    "## 3. Analysis"
   ]
  },
  {
   "cell_type": "markdown",
   "metadata": {},
   "source": [
    "First let's try to find all the dates where we specify a `Weekday`(Ranging from 0 to 4, where `0 is Monday`, `1 is Tuesday`, and so on) and `Perc_diff` over a period of time."
   ]
  },
  {
   "cell_type": "code",
   "execution_count": 11,
   "metadata": {
    "ExecuteTime": {
     "end_time": "2019-11-25T03:04:16.596889Z",
     "start_time": "2019-11-25T03:04:16.491777Z"
    }
   },
   "outputs": [
    {
     "data": {
      "text/html": [
       "<div>\n",
       "<style scoped>\n",
       "    .dataframe tbody tr th:only-of-type {\n",
       "        vertical-align: middle;\n",
       "    }\n",
       "\n",
       "    .dataframe tbody tr th {\n",
       "        vertical-align: top;\n",
       "    }\n",
       "\n",
       "    .dataframe thead th {\n",
       "        text-align: right;\n",
       "    }\n",
       "</style>\n",
       "<table border=\"1\" class=\"dataframe\">\n",
       "  <thead>\n",
       "    <tr style=\"text-align: right;\">\n",
       "      <th></th>\n",
       "      <th>DCOILWTICO</th>\n",
       "      <th>Difference</th>\n",
       "      <th>Perc_diff</th>\n",
       "      <th>Day</th>\n",
       "      <th>Month</th>\n",
       "      <th>Weekday</th>\n",
       "      <th>Year</th>\n",
       "    </tr>\n",
       "    <tr>\n",
       "      <th>DATE</th>\n",
       "      <th></th>\n",
       "      <th></th>\n",
       "      <th></th>\n",
       "      <th></th>\n",
       "      <th></th>\n",
       "      <th></th>\n",
       "      <th></th>\n",
       "    </tr>\n",
       "  </thead>\n",
       "  <tbody>\n",
       "    <tr>\n",
       "      <td>2009-11-16</td>\n",
       "      <td>78.910004</td>\n",
       "      <td>2.570007</td>\n",
       "      <td>3.366530</td>\n",
       "      <td>16</td>\n",
       "      <td>11</td>\n",
       "      <td>0</td>\n",
       "      <td>2009</td>\n",
       "    </tr>\n",
       "    <tr>\n",
       "      <td>2009-11-30</td>\n",
       "      <td>77.190002</td>\n",
       "      <td>1.240005</td>\n",
       "      <td>1.632655</td>\n",
       "      <td>30</td>\n",
       "      <td>11</td>\n",
       "      <td>0</td>\n",
       "      <td>2009</td>\n",
       "    </tr>\n",
       "    <tr>\n",
       "      <td>2009-12-28</td>\n",
       "      <td>78.669998</td>\n",
       "      <td>1.839996</td>\n",
       "      <td>2.394891</td>\n",
       "      <td>28</td>\n",
       "      <td>12</td>\n",
       "      <td>0</td>\n",
       "      <td>2009</td>\n",
       "    </tr>\n",
       "    <tr>\n",
       "      <td>2010-01-04</td>\n",
       "      <td>81.519997</td>\n",
       "      <td>2.129997</td>\n",
       "      <td>2.682960</td>\n",
       "      <td>4</td>\n",
       "      <td>1</td>\n",
       "      <td>0</td>\n",
       "      <td>2010</td>\n",
       "    </tr>\n",
       "    <tr>\n",
       "      <td>2010-01-25</td>\n",
       "      <td>74.900002</td>\n",
       "      <td>0.650002</td>\n",
       "      <td>0.875425</td>\n",
       "      <td>25</td>\n",
       "      <td>1</td>\n",
       "      <td>0</td>\n",
       "      <td>2010</td>\n",
       "    </tr>\n",
       "    <tr>\n",
       "      <td>...</td>\n",
       "      <td>...</td>\n",
       "      <td>...</td>\n",
       "      <td>...</td>\n",
       "      <td>...</td>\n",
       "      <td>...</td>\n",
       "      <td>...</td>\n",
       "      <td>...</td>\n",
       "    </tr>\n",
       "    <tr>\n",
       "      <td>2019-08-19</td>\n",
       "      <td>56.240002</td>\n",
       "      <td>1.410000</td>\n",
       "      <td>2.571583</td>\n",
       "      <td>19</td>\n",
       "      <td>8</td>\n",
       "      <td>0</td>\n",
       "      <td>2019</td>\n",
       "    </tr>\n",
       "    <tr>\n",
       "      <td>2019-09-09</td>\n",
       "      <td>57.880001</td>\n",
       "      <td>1.430000</td>\n",
       "      <td>2.533221</td>\n",
       "      <td>9</td>\n",
       "      <td>9</td>\n",
       "      <td>0</td>\n",
       "      <td>2019</td>\n",
       "    </tr>\n",
       "    <tr>\n",
       "      <td>2019-09-16</td>\n",
       "      <td>63.099998</td>\n",
       "      <td>8.340000</td>\n",
       "      <td>15.230095</td>\n",
       "      <td>16</td>\n",
       "      <td>9</td>\n",
       "      <td>0</td>\n",
       "      <td>2019</td>\n",
       "    </tr>\n",
       "    <tr>\n",
       "      <td>2019-09-23</td>\n",
       "      <td>58.689999</td>\n",
       "      <td>0.770000</td>\n",
       "      <td>1.329422</td>\n",
       "      <td>23</td>\n",
       "      <td>9</td>\n",
       "      <td>0</td>\n",
       "      <td>2019</td>\n",
       "    </tr>\n",
       "    <tr>\n",
       "      <td>2019-11-04</td>\n",
       "      <td>56.330002</td>\n",
       "      <td>0.290001</td>\n",
       "      <td>0.517488</td>\n",
       "      <td>4</td>\n",
       "      <td>11</td>\n",
       "      <td>0</td>\n",
       "      <td>2019</td>\n",
       "    </tr>\n",
       "  </tbody>\n",
       "</table>\n",
       "<p>205 rows × 7 columns</p>\n",
       "</div>"
      ],
      "text/plain": [
       "            DCOILWTICO  Difference  Perc_diff  Day  Month  Weekday  Year\n",
       "DATE                                                                    \n",
       "2009-11-16   78.910004    2.570007   3.366530   16     11        0  2009\n",
       "2009-11-30   77.190002    1.240005   1.632655   30     11        0  2009\n",
       "2009-12-28   78.669998    1.839996   2.394891   28     12        0  2009\n",
       "2010-01-04   81.519997    2.129997   2.682960    4      1        0  2010\n",
       "2010-01-25   74.900002    0.650002   0.875425   25      1        0  2010\n",
       "...                ...         ...        ...  ...    ...      ...   ...\n",
       "2019-08-19   56.240002    1.410000   2.571583   19      8        0  2019\n",
       "2019-09-09   57.880001    1.430000   2.533221    9      9        0  2019\n",
       "2019-09-16   63.099998    8.340000  15.230095   16      9        0  2019\n",
       "2019-09-23   58.689999    0.770000   1.329422   23      9        0  2019\n",
       "2019-11-04   56.330002    0.290001   0.517488    4     11        0  2019\n",
       "\n",
       "[205 rows x 7 columns]"
      ]
     },
     "execution_count": 11,
     "metadata": {},
     "output_type": "execute_result"
    }
   ],
   "source": [
    "start_date = '2009-11-01'\n",
    "end_date = '2019-11-18'\n",
    "percent_change = 0.1\n",
    "weekday = 0  # 0 to 4 (Monday to Friday)\n",
    "df.loc[(df['Perc_diff'] > percent_change)\n",
    "       & (df['Weekday'] == weekday)][start_date:end_date]"
   ]
  },
  {
   "cell_type": "markdown",
   "metadata": {},
   "source": [
    "Now, let's try to print the values greater than a percent_change value we enter in a given dates range."
   ]
  },
  {
   "cell_type": "code",
   "execution_count": 12,
   "metadata": {
    "ExecuteTime": {
     "end_time": "2019-11-25T03:04:16.691889Z",
     "start_time": "2019-11-25T03:04:16.599682Z"
    }
   },
   "outputs": [
    {
     "data": {
      "text/html": [
       "<div>\n",
       "<style scoped>\n",
       "    .dataframe tbody tr th:only-of-type {\n",
       "        vertical-align: middle;\n",
       "    }\n",
       "\n",
       "    .dataframe tbody tr th {\n",
       "        vertical-align: top;\n",
       "    }\n",
       "\n",
       "    .dataframe thead th {\n",
       "        text-align: right;\n",
       "    }\n",
       "</style>\n",
       "<table border=\"1\" class=\"dataframe\">\n",
       "  <thead>\n",
       "    <tr style=\"text-align: right;\">\n",
       "      <th></th>\n",
       "      <th>DCOILWTICO</th>\n",
       "      <th>Difference</th>\n",
       "      <th>Perc_diff</th>\n",
       "      <th>Day</th>\n",
       "      <th>Month</th>\n",
       "      <th>Weekday</th>\n",
       "      <th>Year</th>\n",
       "    </tr>\n",
       "    <tr>\n",
       "      <th>DATE</th>\n",
       "      <th></th>\n",
       "      <th></th>\n",
       "      <th></th>\n",
       "      <th></th>\n",
       "      <th></th>\n",
       "      <th></th>\n",
       "      <th></th>\n",
       "    </tr>\n",
       "  </thead>\n",
       "  <tbody>\n",
       "    <tr>\n",
       "      <td>2019-06-20</td>\n",
       "      <td>56.880001</td>\n",
       "      <td>3.139999</td>\n",
       "      <td>5.842948</td>\n",
       "      <td>20</td>\n",
       "      <td>6</td>\n",
       "      <td>3</td>\n",
       "      <td>2019</td>\n",
       "    </tr>\n",
       "    <tr>\n",
       "      <td>2019-09-16</td>\n",
       "      <td>63.099998</td>\n",
       "      <td>8.340000</td>\n",
       "      <td>15.230095</td>\n",
       "      <td>16</td>\n",
       "      <td>9</td>\n",
       "      <td>0</td>\n",
       "      <td>2019</td>\n",
       "    </tr>\n",
       "  </tbody>\n",
       "</table>\n",
       "</div>"
      ],
      "text/plain": [
       "            DCOILWTICO  Difference  Perc_diff  Day  Month  Weekday  Year\n",
       "DATE                                                                    \n",
       "2019-06-20   56.880001    3.139999   5.842948   20      6        3  2019\n",
       "2019-09-16   63.099998    8.340000  15.230095   16      9        0  2019"
      ]
     },
     "execution_count": 12,
     "metadata": {},
     "output_type": "execute_result"
    }
   ],
   "source": [
    "start_date = '2019-06-01'\n",
    "end_date = '2020-01-01'\n",
    "percent_change = 5\n",
    "df.loc[(df['Perc_diff'] > percent_change)][start_date:end_date]"
   ]
  },
  {
   "cell_type": "markdown",
   "metadata": {},
   "source": [
    "# Final functions"
   ]
  },
  {
   "cell_type": "markdown",
   "metadata": {},
   "source": [
    "There are 3 functions below,    \n",
    "\n",
    "1. `get_details`\n",
    "\n",
    "2. `get_change`\n",
    "\n",
    "3. `get20_change`\n",
    "\n",
    "The `get_details` function takes the csv file and preprocesses it, and gives the dates on which the oil prices are changed w.r.t. given given percentage change value.\n",
    "\n",
    "The `get_change` function then takes these dates and outputs the percentage change values on given period range.\n",
    "\n",
    "The `get20_change` function gives percentage change values in the period of 3 days before and after 20th day of given month and year in the loopback range."
   ]
  },
  {
   "cell_type": "code",
   "execution_count": 13,
   "metadata": {
    "ExecuteTime": {
     "end_time": "2019-11-25T03:04:16.809547Z",
     "start_time": "2019-11-25T03:04:16.695229Z"
    }
   },
   "outputs": [],
   "source": [
    "def get_details(csv_path, start_date, end_date, percent_change, weekday=0):\n",
    "    \"\"\"\n",
    "    This function returns the dates where the oil prices have moved w.r.t given percent change value given as input.\n",
    "\n",
    "    csv_path: String, path to the csv dataset file.\n",
    "    (Note: The file should have only two columns named `DATE` and the symbol name 'DCOILWTICO')\n",
    "\n",
    "    start_date: String, starting date for look back\n",
    "\n",
    "    end_data: String, ending date for look back\n",
    "\n",
    "    percent_change: float, the percent change value for look back\n",
    "\n",
    "    weekday: int, default: 0 (Monday), It ranges through 0 to 4 (Monday to Friday)\n",
    "    \"\"\"\n",
    "    # Preprocessing the data\n",
    "    data = pd.read_csv(csv_path, index_col=[0])\n",
    "    data.index = pd.to_datetime(data.index)\n",
    "    data['DCOILWTICO'] = data['DCOILWTICO'][data['DCOILWTICO'] != '.'].astype(\n",
    "        'float32')\n",
    "    data.dropna(inplace=True)\n",
    "\n",
    "    # Feature generation\n",
    "    data['Difference'] = data['DCOILWTICO'].diff(periods=1)\n",
    "    data['Perc_diff'] = data['DCOILWTICO'].pct_change(periods=1) * 100\n",
    "    data.fillna(0, inplace=True)\n",
    "    data['Day'] = pd.to_datetime(data.index).day\n",
    "    data['Month'] = pd.to_datetime(data.index).month\n",
    "    data['Weekday'] = pd.to_datetime(data.index).dayofweek\n",
    "    data['Year'] = pd.to_datetime(data.index).year\n",
    "\n",
    "    # Get results\n",
    "    if weekday != 0:\n",
    "        result = data[start_date:end_date]\n",
    "        result = result[result['Perc_diff'] > int(percent_change)]\n",
    "        result = result[result['Weekday'] == int(weekday)]\n",
    "        result = list(result.index)\n",
    "        \n",
    "    else:\n",
    "        result = data[start_date:end_date]\n",
    "        result = result[result['Perc_diff'] > int(percent_change)]\n",
    "        result = list(result.index)\n",
    "        \n",
    "    return [i.strftime('%Y-%m-%d') for i in result], data\n",
    "\n",
    "\n",
    "def get_change(data, period, price, date):\n",
    "    \"\"\"\n",
    "    This function outputs the percent changes in oil prices in a given period of dates.\n",
    "    \n",
    "    data: Dataframe, Preprocessed dataframe with percent_differences column.\n",
    "    \n",
    "    period: int, The number of days for which you want to see the changes in price.\n",
    "    \n",
    "    price: int or float, The percent change in price.\n",
    "    \n",
    "    date: string, Starting date for loopback range.\n",
    "    \"\"\"\n",
    "    end_date = datetime.strptime(date, '%Y-%m-%d') + timedelta(days=period)\n",
    "    value = data[date:str(end_date).split(' ')[0]].mean()\n",
    "    value = round(value, 3)\n",
    "    print(\n",
    "        f'From {date} to {str(end_date).split(\" \")[0]} when oil goes above {price}, the price changes by {value} %')\n",
    "\n",
    "\n",
    "def get20_change(data, month, year):\n",
    "    \"\"\"\n",
    "    This function outputs percent changes occur 3 days before and after 20th day of given month and year.\n",
    "    \n",
    "    data: Dataframe, Preprocessed data to get the prices\n",
    "    \n",
    "    month: int, Month in which you want to see the price change (0 to 12, Jan to Dec)\n",
    "    \n",
    "    year: int, Year in which you want to see the price change\n",
    "    \"\"\"\n",
    "    # Preprocessing the data\n",
    "    data = pd.read_csv(data, index_col=[0])\n",
    "    data.index = pd.to_datetime(data.index)\n",
    "    data['DCOILWTICO'] = data['DCOILWTICO'][data['DCOILWTICO']\n",
    "                                            != '.'].astype('float32')\n",
    "    data.dropna(inplace=True)\n",
    "\n",
    "    # Feature generation\n",
    "    data['Difference'] = data['DCOILWTICO'].diff(periods=1)\n",
    "    data['Perc_diff'] = data['DCOILWTICO'].pct_change(periods=1) * 100\n",
    "    data.fillna(0, inplace=True)\n",
    "\n",
    "    data['Day'] = pd.to_datetime(data.index).day\n",
    "    data['Month'] = pd.to_datetime(data.index).month\n",
    "    data['Year'] = pd.to_datetime(data.index).year\n",
    "\n",
    "    price_at_20 = data[data['Month'] == int(month)]\n",
    "    price_at_20 = price_at_20[price_at_20['Year'] == int(year)]\n",
    "    price_at_20 = price_at_20[price_at_20['Day'] > 16]\n",
    "    price_at_20 = price_at_20[price_at_20['Day'] <= 24]\n",
    "    print(f'\\nPrice change 20th of {month} Month of {year}:\\n')\n",
    "    print(price_at_20)"
   ]
  },
  {
   "cell_type": "code",
   "execution_count": 14,
   "metadata": {
    "ExecuteTime": {
     "end_time": "2019-11-25T03:05:29.632495Z",
     "start_time": "2019-11-25T03:04:16.812876Z"
    },
    "scrolled": false
   },
   "outputs": [
    {
     "name": "stdout",
     "output_type": "stream",
     "text": [
      "Enter csv filename/path for prices: DCOILWTICO.csv\n",
      "Enter the start date for loob back (YYYY-MM-DD): 2016-01-01\n",
      "Enter the end date for loop back (YYYY-MM-DD): 2019-01-01\n",
      "Enter the day on which you want to see the changes(0 to 4, Monday to Friday): 0\n",
      "Enter price change(O% to 100%): 4\n",
      "\n",
      "\n",
      "Following are the dates where the price went above 4%, \n",
      "['2016-02-22', '2016-03-07', '2018-12-03']\n",
      "\n",
      "\n",
      "Enter the number of days for which you want to see the price change from above dates: 3\n",
      "From 2016-02-22 to 2016-02-25 when oil goes above 4, the price changes by 1.573 %\n",
      "\n",
      "From 2016-03-07 to 2016-03-10 when oil goes above 4, the price changes by 1.321 %\n",
      "\n",
      "From 2018-12-03 to 2018-12-06 when oil goes above 4, the price changes by 0.401 %\n",
      "\n",
      "\n",
      "Price change on 20th Day,\n",
      "For the period of 2016-01-01 to 2019-01-01\n",
      "Enter the month to see changes on 20th day: 12\n",
      "Enter the year to see changes on 20th day: 2018\n",
      "\n",
      "Price change 20th of 12 Month of 2018:\n",
      "\n",
      "            DCOILWTICO  Difference  Perc_diff  Day  Month  Year\n",
      "DATE                                                           \n",
      "2018-12-17   49.799999   -1.459999  -2.848226   17     12  2018\n",
      "2018-12-18   46.119999   -3.680000  -7.389557   18     12  2018\n",
      "2018-12-19   47.959999    1.840000   3.989589   19     12  2018\n",
      "2018-12-20   45.639999   -2.320000  -4.837364   20     12  2018\n",
      "2018-12-21   45.380001   -0.259998  -0.569671   21     12  2018\n"
     ]
    }
   ],
   "source": [
    "csv_file = input('Enter csv filename/path for prices: ')\n",
    "start_date = input('Enter the start date for loob back (YYYY-MM-DD): ')\n",
    "end_date = input('Enter the end date for loop back (YYYY-MM-DD): ')\n",
    "weekday = input('Enter the day on which you want to see the changes(0 to 4, Monday to Friday): ')\n",
    "percent_change = int(input('Enter price change(O% to 100%): '))\n",
    "print()\n",
    "r, prep_data = get_details(csv_path=csv_file,\n",
    "                start_date=start_date,\n",
    "                end_date=end_date,\n",
    "                percent_change=percent_change,\n",
    "                weekday=weekday)\n",
    "\n",
    "if len(r) == 0:\n",
    "    print(f'\\nPrice never changed above {percent_change} for given period and day\\nExiting....')\n",
    "else:\n",
    "    print(f'\\nFollowing are the dates where the price went above {percent_change}%, \\n{r}\\n')\n",
    "    period = int(input('\\nEnter the number of days for which you want to see the price change from above dates: '))\n",
    "    for i in r:\n",
    "        get_change(data=prep_data['Perc_diff'], price=percent_change, period=period, date=i)\n",
    "        print()\n",
    "\n",
    "    print(f'\\nPrice change on 20th Day,\\nFor the period of {start_date} to {end_date}')\n",
    "    month = input('Enter the month to see changes on 20th day: ')\n",
    "    year = input('Enter the year to see changes on 20th day: ')\n",
    "\n",
    "    p = get20_change(data=csv_file, month=month, year=year)"
   ]
  },
  {
   "cell_type": "code",
   "execution_count": null,
   "metadata": {},
   "outputs": [],
   "source": []
  }
 ],
 "metadata": {
  "kernelspec": {
   "display_name": "Python 3",
   "language": "python",
   "name": "python3"
  },
  "language_info": {
   "codemirror_mode": {
    "name": "ipython",
    "version": 3
   },
   "file_extension": ".py",
   "mimetype": "text/x-python",
   "name": "python",
   "nbconvert_exporter": "python",
   "pygments_lexer": "ipython3",
   "version": "3.7.4"
  }
 },
 "nbformat": 4,
 "nbformat_minor": 2
}
